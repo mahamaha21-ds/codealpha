{
 "cells": [
  {
   "cell_type": "code",
   "execution_count": 6,
   "id": "92c00075-92e4-45c8-809c-6540fbfd0b8d",
   "metadata": {},
   "outputs": [
    {
     "name": "stdout",
     "output_type": "stream",
     "text": [
      "Hi, I'm your chatbot. Type 'quit' to exit.\n"
     ]
    },
    {
     "name": "stdin",
     "output_type": "stream",
     "text": [
      "> hello\n"
     ]
    },
    {
     "name": "stdout",
     "output_type": "stream",
     "text": [
      "Hello! How can I help you today?\n"
     ]
    },
    {
     "name": "stdin",
     "output_type": "stream",
     "text": [
      "> what are your hours?\n"
     ]
    },
    {
     "name": "stdout",
     "output_type": "stream",
     "text": [
      "We are always open for you. Fell free to ask.\n"
     ]
    },
    {
     "name": "stdin",
     "output_type": "stream",
     "text": [
      "> see you later\n"
     ]
    },
    {
     "name": "stdout",
     "output_type": "stream",
     "text": [
      "Goodbye! Have a great day!\n"
     ]
    },
    {
     "name": "stdin",
     "output_type": "stream",
     "text": [
      "> quit\n"
     ]
    },
    {
     "name": "stdout",
     "output_type": "stream",
     "text": [
      "None\n"
     ]
    }
   ],
   "source": [
    "from nltk.chat.util import Chat, reflections\n",
    "\n",
    "# Corrected variable name and improved intent patterns\n",
    "pairs = [\n",
    "    (r\"(?i)\\b(hi|hello|hey there|good morning)\\b\",\n",
    "     [\"Hello! How can I help you today?\", \"Hi there! What can I do for you?\"]\n",
    "    ),\n",
    "    (r\"(?i)\\b(bye|see you later|goodbye)\\b\", \n",
    "     [\"Goodbye! Have a great day!\", \"See you soon!\"]\n",
    "    ),\n",
    "    (r\"(?i)\\b(thanks|thank you|appreciate it)\\b\", \n",
    "     [\"You're welcome!\", \"Happy to help!\"]\n",
    "    ),\n",
    "    (r\"(?i)(what are your hours\\?|when are you open\\?|opening hours\\?)\", \n",
    "     [\"We are always open for you. Fell free to ask.\"]\n",
    "    ),\n",
    "    (r\"(?i)(what services do you offer\\?|tell me about your services)\", \n",
    "     [\"We offer a variety of services including A, B, and C. Would you like to know more about one of them?\"]\n",
    "    )\n",
    "]\n",
    "\n",
    "def chatty():\n",
    "    print(\"Hi, I'm your chatbot. Type 'quit' to exit.\")\n",
    "    chatbot = Chat(pairs, reflections)\n",
    "    chatbot.converse()\n",
    "\n",
    "if __name__ == \"__main__\":\n",
    "    chatty()\n"
   ]
  },
  {
   "cell_type": "code",
   "execution_count": null,
   "id": "4570453f-2b4c-4fc5-a4ac-38d373329105",
   "metadata": {},
   "outputs": [],
   "source": []
  }
 ],
 "metadata": {
  "kernelspec": {
   "display_name": "Python 3 (ipykernel)",
   "language": "python",
   "name": "python3"
  },
  "language_info": {
   "codemirror_mode": {
    "name": "ipython",
    "version": 3
   },
   "file_extension": ".py",
   "mimetype": "text/x-python",
   "name": "python",
   "nbconvert_exporter": "python",
   "pygments_lexer": "ipython3",
   "version": "3.12.4"
  }
 },
 "nbformat": 4,
 "nbformat_minor": 5
}
